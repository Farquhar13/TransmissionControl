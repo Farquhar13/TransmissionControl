{
 "cells": [
  {
   "cell_type": "code",
   "execution_count": 5,
   "metadata": {},
   "outputs": [],
   "source": [
    "import csv\n",
    "import matplotlib.pyplot as plt\n",
    "import numpy as np\n",
    "from matplotlib import style\n",
    "from collections import namedtuple"
   ]
  },
  {
   "cell_type": "code",
   "execution_count": 6,
   "metadata": {},
   "outputs": [
    {
     "ename": "FileNotFoundError",
     "evalue": "[Errno 2] No such file or directory: 'run1/data.csv'",
     "output_type": "error",
     "traceback": [
      "\u001b[0;31m---------------------------------------------------------------------------\u001b[0m",
      "\u001b[0;31mFileNotFoundError\u001b[0m                         Traceback (most recent call last)",
      "\u001b[0;32m<ipython-input-6-89fea1c697eb>\u001b[0m in \u001b[0;36m<module>\u001b[0;34m()\u001b[0m\n\u001b[1;32m      9\u001b[0m \u001b[0mstates\u001b[0m \u001b[0;34m=\u001b[0m \u001b[0;34m[\u001b[0m\u001b[0;34m]\u001b[0m\u001b[0;34m\u001b[0m\u001b[0;34m\u001b[0m\u001b[0m\n\u001b[1;32m     10\u001b[0m \u001b[0;34m\u001b[0m\u001b[0m\n\u001b[0;32m---> 11\u001b[0;31m \u001b[0;32mwith\u001b[0m \u001b[0mopen\u001b[0m\u001b[0;34m(\u001b[0m\u001b[0;34m'run1/data.csv'\u001b[0m\u001b[0;34m,\u001b[0m \u001b[0;34m'r'\u001b[0m\u001b[0;34m)\u001b[0m \u001b[0;32mas\u001b[0m \u001b[0mfile\u001b[0m\u001b[0;34m:\u001b[0m\u001b[0;34m\u001b[0m\u001b[0;34m\u001b[0m\u001b[0m\n\u001b[0m\u001b[1;32m     12\u001b[0m     \u001b[0mreader\u001b[0m \u001b[0;34m=\u001b[0m \u001b[0mcsv\u001b[0m\u001b[0;34m.\u001b[0m\u001b[0mreader\u001b[0m\u001b[0;34m(\u001b[0m\u001b[0mfile\u001b[0m\u001b[0;34m)\u001b[0m\u001b[0;34m\u001b[0m\u001b[0;34m\u001b[0m\u001b[0m\n\u001b[1;32m     13\u001b[0m     \u001b[0;32mfor\u001b[0m \u001b[0mrow\u001b[0m \u001b[0;32min\u001b[0m \u001b[0mreader\u001b[0m\u001b[0;34m:\u001b[0m\u001b[0;34m\u001b[0m\u001b[0;34m\u001b[0m\u001b[0m\n",
      "\u001b[0;31mFileNotFoundError\u001b[0m: [Errno 2] No such file or directory: 'run1/data.csv'"
     ]
    }
   ],
   "source": [
    "n_agents = 4\n",
    "history = 1\n",
    "n_steps = 9999\n",
    "buffer_rate = 1\n",
    "\n",
    "\n",
    "rewards = []\n",
    "actions = []\n",
    "states = []\n",
    "\n",
    "with open('run1/data.csv', 'r') as file:\n",
    "    reader = csv.reader(file)\n",
    "    for row in reader:\n",
    "        row = [float(r) for r in row]\n",
    "        rewards.append(row[:n_agents])\n",
    "        actions.append(row[n_agents: 2*n_agents])\n",
    "        states.append(row[2*n_agents:])\n",
    "\n",
    "rewards = np.array(rewards)\n",
    "actions = np.array(actions)\n",
    "states = np.array(states)       "
   ]
  },
  {
   "cell_type": "code",
   "execution_count": null,
   "metadata": {},
   "outputs": [],
   "source": [
    "print(rewards.shape)\n",
    "print(actions.shape)\n",
    "print(states.shape)"
   ]
  },
  {
   "cell_type": "markdown",
   "metadata": {},
   "source": [
    "### Get features in a scenario with history\n",
    "We want to just get the features from the last time step. "
   ]
  },
  {
   "cell_type": "code",
   "execution_count": null,
   "metadata": {},
   "outputs": [],
   "source": [
    "# state = namedtuple('state', [\"sinr\", \"interference_caused\", \"n_success\", \"tx_powers\",\n",
    "#                              \"interference_sensed\", \"buffer\"])\n",
    "n_features_per_agent = len(states[1]) // n_agents\n",
    "\n",
    "did_transmit = []\n",
    "n_success = []\n",
    "interference_sensed = []\n",
    "buffer = []\n",
    "\n",
    "for s in states:\n",
    "    #step_sinr = []\n",
    "    step_n_success = []\n",
    "    step_did_transmit = []\n",
    "    step_interference_sensed = []\n",
    "    step_buffer = []\n",
    "    for i in range(n_agents):\n",
    "        agent_features = s[i * n_features_per_agent: (i+1) * n_features_per_agent]\n",
    "        \n",
    "        step_did_transmit.append(agent_features[0])\n",
    "        step_n_success.append(agent_features[1])\n",
    "        step_interference_sensed.append(agent_features[2])\n",
    "        step_buffer.append(agent_features[3])\n",
    "\n",
    "    did_transmit.append(step_did_transmit)\n",
    "    n_success.append(step_n_success)\n",
    "    interference_sensed.append(step_interference_sensed)\n",
    "    buffer.append(step_buffer)\n",
    "\n",
    "    \n",
    "did_transmit = np.array(did_transmit)\n",
    "n_success = np.array(n_success)\n",
    "interference_sensed = np.array(interference_sensed)\n",
    "buffer = np.array(buffer)"
   ]
  },
  {
   "cell_type": "code",
   "execution_count": null,
   "metadata": {},
   "outputs": [],
   "source": [
    "print(actions)"
   ]
  },
  {
   "cell_type": "code",
   "execution_count": null,
   "metadata": {},
   "outputs": [],
   "source": [
    "print(sum(n_success[:, 0]))\n",
    "print(np.sum(n_success, axis=0))\n",
    "print(np.sum(rewards, axis=1))\n",
    "unique, counts = np.unique(np.sum(rewards, axis=1), return_counts=True)\n",
    "dict(zip(unique, counts))\n"
   ]
  },
  {
   "cell_type": "code",
   "execution_count": null,
   "metadata": {},
   "outputs": [],
   "source": [
    "print(actions.flatten())\n",
    "unique, counts = np.unique(actions.flatten(), return_counts=True)\n",
    "dict(zip(unique, counts))"
   ]
  },
  {
   "cell_type": "markdown",
   "metadata": {},
   "source": [
    "### Convert to averages over a time window"
   ]
  },
  {
   "cell_type": "code",
   "execution_count": null,
   "metadata": {},
   "outputs": [],
   "source": [
    "did_transmit.shape"
   ]
  },
  {
   "cell_type": "code",
   "execution_count": null,
   "metadata": {
    "scrolled": false
   },
   "outputs": [],
   "source": [
    "history = 100\n",
    "\n",
    "avgs = [[] for _ in range(n_agents)] # rewards\n",
    "\n",
    "# Features\n",
    "avg_did_transmit = [[] for _ in range(n_agents)]\n",
    "avg_interference_sensed = [[] for _ in range(n_agents)] \n",
    "avg_buffer = np.zeros((states.shape[0], n_agents))\n",
    "\n",
    "avg_throughput = np.zeros((states.shape[0], n_agents))\n",
    "\n",
    "for i in range(history, len(rewards)):\n",
    "    for j in range(n_agents):\n",
    "        avgs[j].append(np.mean(rewards[:, j][i - history: i]))\n",
    "        avg_did_transmit[j].append(np.mean(did_transmit[:, j][i - history: i]))\n",
    "        avg_interference_sensed[j].append(np.mean(did_transmit[:, j][i - history: i]))\n",
    "\n",
    "        avg_buffer[i][j] = np.mean(buffer[:, j][i - history: i])\n",
    "        avg_throughput[i][j] = np.mean(n_success[:, j][i - history: i])\n",
    "\n",
    "\n",
    "reward_sum = [sum(rewards[i]) for i in range(len(rewards))]\n",
    "avg_reward_sum = []\n",
    "for i in range(history, len(rewards)):\n",
    "    avg_reward_sum.append(np.mean(reward_sum[i - history: i]))"
   ]
  },
  {
   "cell_type": "markdown",
   "metadata": {},
   "source": [
    "# Reward"
   ]
  },
  {
   "cell_type": "code",
   "execution_count": null,
   "metadata": {
    "scrolled": true
   },
   "outputs": [],
   "source": [
    "for i in range(n_agents):\n",
    "    fig = plt.figure()\n",
    "    plt.plot(avgs[i])\n",
    "    plt.title(\"Average 100-step Reward for Agent \" + str(i + 1))\n",
    "    plt.xlabel(\"Step\")\n",
    "    plt.ylabel(\"Reward\")\n",
    "    \n",
    "    #plt.show()\n",
    "    #plt.savefig(\"reward\" + str(i+1) + \".png\")"
   ]
  },
  {
   "cell_type": "markdown",
   "metadata": {},
   "source": [
    "# Actions"
   ]
  },
  {
   "cell_type": "code",
   "execution_count": null,
   "metadata": {},
   "outputs": [],
   "source": [
    "# Using np.unique is another way of doing this\n",
    "\n",
    "agent_action_probs = [] # Time slice, agent_idx, action\n",
    "possible_actions = sorted(list(set(actions.flatten())))\n",
    "print(\"possible_actions\", possible_actions)\n",
    "steps = 200\n",
    "\n",
    "for i in range(len(actions)//steps):\n",
    "    action_slice = actions[i*steps: (i+1)*steps]\n",
    "    agent_action_probs_this_time_slice = []\n",
    "    for agent_index in range(n_agents):\n",
    "        agent_actions = [0] * len(possible_actions)\n",
    "        agent_action_slice = action_slice[:, agent_index]\n",
    "        \n",
    "        for i, action in enumerate(possible_actions):\n",
    "            agent_actions[i] = np.count_nonzero(agent_action_slice == action)\n",
    "             \n",
    "        agent_action_probs_this_time_slice.append(np.array(agent_actions) / steps)\n",
    "    \n",
    "    agent_action_probs.append(agent_action_probs_this_time_slice)        \n",
    "\n",
    "agent_action_probs = np.array(agent_action_probs)"
   ]
  },
  {
   "cell_type": "code",
   "execution_count": null,
   "metadata": {},
   "outputs": [],
   "source": [
    "step_list = list(range(100, len(actions), 199))\n",
    "labels = [str(a) for a in possible_actions]\n",
    "#plt.plot(step_list, agent_action_probs[:, 0], label=['-1', '0', '1'])\n",
    "\n",
    "for i in range(n_agents):\n",
    "    fig = plt.figure()\n",
    "\n",
    "    for j in range(len(possible_actions)):\n",
    "        plt.plot(step_list, agent_action_probs[:, i, j], label=labels[j], marker='o')\n",
    "    \n",
    "    plt.legend(loc=\"right\")\n",
    "    plt.title(\"Agent \" + str(i + 1) + \" Action Probabilities (averaged over last 100 steps)\")\n",
    "    plt.xlabel(\"Step\")\n",
    "    plt.ylabel(\"Probability\")\n",
    "    #plt.savefig(\"Agent \" + str(i + 1) + \" Action Probabilities.png\")"
   ]
  },
  {
   "cell_type": "markdown",
   "metadata": {},
   "source": [
    "# Features\n",
    "- did_transmit\n",
    "- n_success \n",
    "- interference_sensed \n",
    "- buffer"
   ]
  },
  {
   "cell_type": "markdown",
   "metadata": {},
   "source": [
    "## Did transmit"
   ]
  },
  {
   "cell_type": "code",
   "execution_count": null,
   "metadata": {},
   "outputs": [],
   "source": [
    "for i in range(n_agents):\n",
    "    fig = plt.figure()\n",
    "    plt.plot(avg_did_transmit[i])\n",
    "    \n",
    "    plt.title(\"Agent \" + str(i + 1) + \" Transmission Probability\")\n",
    "    plt.xlabel(\"Step\")\n",
    "    plt.ylabel(\"Transmission Probability\")\n",
    "    #plt.savefig(\"Agent \" + str(i + 1) + \" Buffer.png\")"
   ]
  },
  {
   "cell_type": "markdown",
   "metadata": {},
   "source": [
    "## Transmission Successful\n",
    "Same as throughput"
   ]
  },
  {
   "cell_type": "markdown",
   "metadata": {},
   "source": [
    "## Interference-sensed"
   ]
  },
  {
   "cell_type": "code",
   "execution_count": null,
   "metadata": {},
   "outputs": [],
   "source": [
    "for i in range(n_agents):\n",
    "    fig = plt.figure()\n",
    "    plt.plot(avg_interference_sensed[i])\n",
    "    \n",
    "    plt.title(\"Agent \" + str(i + 1) + \" Interference Sensed\")\n",
    "    plt.xlabel(\"Step\")\n",
    "    plt.ylabel(\"Transmissions\")\n",
    "    #plt.savefig(\"Agent \" + str(i + 1) + \" Buffer.png\")"
   ]
  },
  {
   "cell_type": "markdown",
   "metadata": {},
   "source": [
    "## Buffer"
   ]
  },
  {
   "cell_type": "code",
   "execution_count": null,
   "metadata": {},
   "outputs": [],
   "source": [
    "for i in range(n_agents):\n",
    "    fig = plt.figure()\n",
    "    plt.plot(avg_buffer[:, i])\n",
    "    \n",
    "    plt.title(\"Agent \" + str(i + 1) + \" Buffer\")\n",
    "    plt.xlabel(\"Step\")\n",
    "    plt.ylabel(\"Buffer Size\")\n",
    "    #plt.savefig(\"Agent \" + str(i + 1) + \" Buffer.png\")"
   ]
  },
  {
   "cell_type": "markdown",
   "metadata": {},
   "source": [
    "### Agent Throughput \n",
    "\n",
    "In packets per step, averaged for a 100 step window"
   ]
  },
  {
   "cell_type": "code",
   "execution_count": null,
   "metadata": {
    "scrolled": false
   },
   "outputs": [],
   "source": [
    "for i in range(n_agents):\n",
    "    fig = plt.figure()\n",
    "    plt.plot(avg_throughput[:, i])\n",
    "    plt.title(\"Average 100-step Throughput for Agent \" + str(i + 1))\n",
    "    plt.xlabel(\"Step\")\n",
    "    plt.ylabel(\"Success\")\n",
    "    \n",
    "    #plt.show()\n",
    "    #plt.savefig(\"Success\" + str(i+1) + \".png\")"
   ]
  },
  {
   "cell_type": "markdown",
   "metadata": {},
   "source": [
    "### Network throughput\n",
    "Sum the throughput for all agents.\n",
    "\n",
    "For the same history window as used in the throughput."
   ]
  },
  {
   "cell_type": "code",
   "execution_count": null,
   "metadata": {},
   "outputs": [],
   "source": [
    "network_throuput = np.sum(avg_throughput, axis=1)\n",
    "\n",
    "fig = plt.figure()\n",
    "plt.plot(network_throuput)\n",
    "plt.title(\"Network throughput averaged over 100 steps\")\n",
    "plt.xlabel(\"Step\")\n",
    "plt.ylabel(\"Avg Throughput (packet/step)\")"
   ]
  },
  {
   "cell_type": "markdown",
   "metadata": {},
   "source": [
    "### Fairness\n",
    "Jain's fairness index"
   ]
  },
  {
   "cell_type": "code",
   "execution_count": null,
   "metadata": {
    "scrolled": true
   },
   "outputs": [],
   "source": [
    "fairness = []\n",
    "\n",
    "for step_idx in range(n_steps - history):\n",
    "    numerator = sum(avg_throughput[step_idx, :])**2\n",
    "    denominator = n_agents * sum(np.square(avg_throughput[step_idx, :]))\n",
    "    fairness.append(numerator / denominator)"
   ]
  },
  {
   "cell_type": "code",
   "execution_count": null,
   "metadata": {},
   "outputs": [],
   "source": [
    "plt.plot(fairness)\n",
    "plt.title(\"Network Fairness\")\n",
    "plt.xlabel(\"Step\")\n",
    "plt.ylabel(\"Fairness\")\n",
    "#plt.savefig(\"Fariness.png\")"
   ]
  },
  {
   "cell_type": "markdown",
   "metadata": {},
   "source": [
    "### Agent TX success probability"
   ]
  },
  {
   "cell_type": "markdown",
   "metadata": {},
   "source": [
    "### Network TX success probability"
   ]
  },
  {
   "cell_type": "code",
   "execution_count": null,
   "metadata": {},
   "outputs": [],
   "source": []
  }
 ],
 "metadata": {
  "kernelspec": {
   "display_name": "Python 3",
   "language": "python",
   "name": "python3"
  },
  "language_info": {
   "codemirror_mode": {
    "name": "ipython",
    "version": 3
   },
   "file_extension": ".py",
   "mimetype": "text/x-python",
   "name": "python",
   "nbconvert_exporter": "python",
   "pygments_lexer": "ipython3",
   "version": "3.7.2"
  }
 },
 "nbformat": 4,
 "nbformat_minor": 4
}
